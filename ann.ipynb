{
 "cells": [
  {
   "cell_type": "markdown",
   "metadata": {},
   "source": [
    "## Importing Libraries"
   ]
  },
  {
   "cell_type": "code",
   "execution_count": 3,
   "metadata": {},
   "outputs": [],
   "source": [
    "import numpy as np\n",
    "import pandas as pd\n",
    "import tensorflow as tf"
   ]
  },
  {
   "cell_type": "markdown",
   "metadata": {},
   "source": [
    "## Data Preprocessing"
   ]
  },
  {
   "cell_type": "code",
   "execution_count": 4,
   "metadata": {},
   "outputs": [],
   "source": [
    "dataset = pd.read_csv(\"./Dataset/Churn_Modelling.csv\")\n",
    "X = dataset.iloc[:, 3:-1].values\n",
    "Y = dataset.iloc[:, -1].values"
   ]
  },
  {
   "cell_type": "code",
   "execution_count": 5,
   "metadata": {},
   "outputs": [
    {
     "name": "stdout",
     "output_type": "stream",
     "text": [
      "[[619 'France' 'Female' ... 1 1 101348.88]\n",
      " [608 'Spain' 'Female' ... 0 1 112542.58]\n",
      " [502 'France' 'Female' ... 1 0 113931.57]\n",
      " ...\n",
      " [709 'France' 'Female' ... 0 1 42085.58]\n",
      " [772 'Germany' 'Male' ... 1 0 92888.52]\n",
      " [792 'France' 'Female' ... 1 0 38190.78]]\n"
     ]
    }
   ],
   "source": [
    "print(X)"
   ]
  },
  {
   "cell_type": "code",
   "execution_count": 6,
   "metadata": {},
   "outputs": [
    {
     "name": "stdout",
     "output_type": "stream",
     "text": [
      "[1 0 1 ... 1 1 0]\n"
     ]
    }
   ],
   "source": [
    "print(Y)"
   ]
  },
  {
   "cell_type": "markdown",
   "metadata": {},
   "source": [
    "Encoding Gender"
   ]
  },
  {
   "cell_type": "code",
   "execution_count": 8,
   "metadata": {},
   "outputs": [],
   "source": [
    "from sklearn.preprocessing import LabelEncoder\n",
    "le = LabelEncoder()\n",
    "X[:,2] = le.fit_transform(X[:,2])"
   ]
  },
  {
   "cell_type": "markdown",
   "metadata": {},
   "source": [
    "Encoding Geography"
   ]
  },
  {
   "cell_type": "code",
   "execution_count": 11,
   "metadata": {},
   "outputs": [],
   "source": [
    "from sklearn.compose import ColumnTransformer\n",
    "from sklearn.preprocessing import OneHotEncoder\n",
    "ot = ColumnTransformer(transformers=[('encoder', OneHotEncoder(), [1])], remainder='passthrough')\n",
    "X = np.array(ot.fit_transform(X))"
   ]
  },
  {
   "cell_type": "markdown",
   "metadata": {},
   "source": [
    "Splitting Dataset"
   ]
  },
  {
   "cell_type": "code",
   "execution_count": 12,
   "metadata": {},
   "outputs": [],
   "source": [
    "from sklearn.model_selection import train_test_split\n",
    "X_train, X_test, y_train, y_test = train_test_split(X, Y, test_size=0.2, random_state=42)"
   ]
  },
  {
   "cell_type": "markdown",
   "metadata": {},
   "source": [
    "Feature Scaling"
   ]
  },
  {
   "cell_type": "code",
   "execution_count": 13,
   "metadata": {},
   "outputs": [],
   "source": [
    "from sklearn.preprocessing import StandardScaler\n",
    "sc = StandardScaler()\n",
    "X_train = sc.fit_transform(X_train)\n",
    "X_test = sc.fit_transform(X_test)"
   ]
  },
  {
   "cell_type": "markdown",
   "metadata": {},
   "source": [
    "## Building ANN"
   ]
  },
  {
   "cell_type": "code",
   "execution_count": 17,
   "metadata": {},
   "outputs": [],
   "source": [
    "ann = tf.keras.models.Sequential()"
   ]
  },
  {
   "cell_type": "code",
   "execution_count": 19,
   "metadata": {},
   "outputs": [],
   "source": [
    "ann.add(tf.keras.layers.Dense(units=6, activation='relu'))"
   ]
  },
  {
   "cell_type": "code",
   "execution_count": 20,
   "metadata": {},
   "outputs": [],
   "source": [
    "ann.add(tf.keras.layers.Dense(units= 6, activation='relu'))"
   ]
  },
  {
   "cell_type": "code",
   "execution_count": 21,
   "metadata": {},
   "outputs": [],
   "source": [
    "ann.add(tf.keras.layers.Dense(units=1, activation='sigmoid'))"
   ]
  },
  {
   "cell_type": "markdown",
   "metadata": {},
   "source": [
    "## Compiling"
   ]
  },
  {
   "cell_type": "code",
   "execution_count": 22,
   "metadata": {},
   "outputs": [],
   "source": [
    "ann.compile(optimizer= 'adam', loss= 'binary_crossentropy', metrics= ['accuracy'])"
   ]
  },
  {
   "cell_type": "markdown",
   "metadata": {},
   "source": [
    "## Training"
   ]
  },
  {
   "cell_type": "code",
   "execution_count": 23,
   "metadata": {},
   "outputs": [
    {
     "name": "stdout",
     "output_type": "stream",
     "text": [
      "Epoch 1/100\n",
      "250/250 [==============================] - 1s 658us/step - loss: 0.5838 - accuracy: 0.7606\n",
      "Epoch 2/100\n",
      "250/250 [==============================] - 0s 608us/step - loss: 0.4959 - accuracy: 0.7949\n",
      "Epoch 3/100\n",
      "250/250 [==============================] - 0s 718us/step - loss: 0.4596 - accuracy: 0.7971\n",
      "Epoch 4/100\n",
      "250/250 [==============================] - 0s 598us/step - loss: 0.4381 - accuracy: 0.8051\n",
      "Epoch 5/100\n",
      "250/250 [==============================] - 0s 586us/step - loss: 0.4233 - accuracy: 0.8125\n",
      "Epoch 6/100\n",
      "250/250 [==============================] - 0s 593us/step - loss: 0.4093 - accuracy: 0.8221\n",
      "Epoch 7/100\n",
      "250/250 [==============================] - 0s 592us/step - loss: 0.3943 - accuracy: 0.8326\n",
      "Epoch 8/100\n",
      "250/250 [==============================] - 0s 577us/step - loss: 0.3801 - accuracy: 0.8416\n",
      "Epoch 9/100\n",
      "250/250 [==============================] - 0s 606us/step - loss: 0.3700 - accuracy: 0.8449\n",
      "Epoch 10/100\n",
      "250/250 [==============================] - 0s 606us/step - loss: 0.3632 - accuracy: 0.8501\n",
      "Epoch 11/100\n",
      "250/250 [==============================] - 0s 572us/step - loss: 0.3584 - accuracy: 0.8529\n",
      "Epoch 12/100\n",
      "250/250 [==============================] - 0s 586us/step - loss: 0.3549 - accuracy: 0.8536\n",
      "Epoch 13/100\n",
      "250/250 [==============================] - 0s 576us/step - loss: 0.3529 - accuracy: 0.8543\n",
      "Epoch 14/100\n",
      "250/250 [==============================] - 0s 582us/step - loss: 0.3511 - accuracy: 0.8540\n",
      "Epoch 15/100\n",
      "250/250 [==============================] - 0s 574us/step - loss: 0.3503 - accuracy: 0.8558\n",
      "Epoch 16/100\n",
      "250/250 [==============================] - 0s 572us/step - loss: 0.3487 - accuracy: 0.8565\n",
      "Epoch 17/100\n",
      "250/250 [==============================] - 0s 701us/step - loss: 0.3482 - accuracy: 0.8577\n",
      "Epoch 18/100\n",
      "250/250 [==============================] - 0s 590us/step - loss: 0.3468 - accuracy: 0.8581\n",
      "Epoch 19/100\n",
      "250/250 [==============================] - 0s 590us/step - loss: 0.3464 - accuracy: 0.8604\n",
      "Epoch 20/100\n",
      "250/250 [==============================] - 0s 598us/step - loss: 0.3456 - accuracy: 0.8597\n",
      "Epoch 21/100\n",
      "250/250 [==============================] - 0s 587us/step - loss: 0.3446 - accuracy: 0.8566\n",
      "Epoch 22/100\n",
      "250/250 [==============================] - 0s 600us/step - loss: 0.3445 - accuracy: 0.8605\n",
      "Epoch 23/100\n",
      "250/250 [==============================] - 0s 658us/step - loss: 0.3440 - accuracy: 0.8599\n",
      "Epoch 24/100\n",
      "250/250 [==============================] - 0s 745us/step - loss: 0.3433 - accuracy: 0.8589\n",
      "Epoch 25/100\n",
      "250/250 [==============================] - 0s 586us/step - loss: 0.3426 - accuracy: 0.8595\n",
      "Epoch 26/100\n",
      "250/250 [==============================] - 0s 583us/step - loss: 0.3422 - accuracy: 0.8612\n",
      "Epoch 27/100\n",
      "250/250 [==============================] - 0s 615us/step - loss: 0.3415 - accuracy: 0.8600\n",
      "Epoch 28/100\n",
      "250/250 [==============================] - 0s 594us/step - loss: 0.3410 - accuracy: 0.8615\n",
      "Epoch 29/100\n",
      "250/250 [==============================] - 0s 617us/step - loss: 0.3414 - accuracy: 0.8579\n",
      "Epoch 30/100\n",
      "250/250 [==============================] - 0s 590us/step - loss: 0.3404 - accuracy: 0.8609\n",
      "Epoch 31/100\n",
      "250/250 [==============================] - 0s 588us/step - loss: 0.3406 - accuracy: 0.8601\n",
      "Epoch 32/100\n",
      "250/250 [==============================] - 0s 692us/step - loss: 0.3398 - accuracy: 0.8606\n",
      "Epoch 33/100\n",
      "250/250 [==============================] - 0s 576us/step - loss: 0.3400 - accuracy: 0.8600\n",
      "Epoch 34/100\n",
      "250/250 [==============================] - 0s 580us/step - loss: 0.3394 - accuracy: 0.8606\n",
      "Epoch 35/100\n",
      "250/250 [==============================] - 0s 577us/step - loss: 0.3389 - accuracy: 0.8625\n",
      "Epoch 36/100\n",
      "250/250 [==============================] - 0s 585us/step - loss: 0.3387 - accuracy: 0.8595\n",
      "Epoch 37/100\n",
      "250/250 [==============================] - 0s 578us/step - loss: 0.3387 - accuracy: 0.8616\n",
      "Epoch 38/100\n",
      "250/250 [==============================] - 0s 586us/step - loss: 0.3386 - accuracy: 0.8593\n",
      "Epoch 39/100\n",
      "250/250 [==============================] - 0s 623us/step - loss: 0.3382 - accuracy: 0.8621\n",
      "Epoch 40/100\n",
      "250/250 [==============================] - 0s 662us/step - loss: 0.3380 - accuracy: 0.8604\n",
      "Epoch 41/100\n",
      "250/250 [==============================] - 0s 571us/step - loss: 0.3375 - accuracy: 0.8609\n",
      "Epoch 42/100\n",
      "250/250 [==============================] - 0s 580us/step - loss: 0.3372 - accuracy: 0.8621\n",
      "Epoch 43/100\n",
      "250/250 [==============================] - 0s 580us/step - loss: 0.3370 - accuracy: 0.8624\n",
      "Epoch 44/100\n",
      "250/250 [==============================] - 0s 586us/step - loss: 0.3367 - accuracy: 0.8620\n",
      "Epoch 45/100\n",
      "250/250 [==============================] - 0s 583us/step - loss: 0.3363 - accuracy: 0.8625\n",
      "Epoch 46/100\n",
      "250/250 [==============================] - 0s 690us/step - loss: 0.3360 - accuracy: 0.8631\n",
      "Epoch 47/100\n",
      "250/250 [==============================] - 0s 598us/step - loss: 0.3361 - accuracy: 0.8631\n",
      "Epoch 48/100\n",
      "250/250 [==============================] - 0s 575us/step - loss: 0.3356 - accuracy: 0.8625\n",
      "Epoch 49/100\n",
      "250/250 [==============================] - 0s 590us/step - loss: 0.3355 - accuracy: 0.8634\n",
      "Epoch 50/100\n",
      "250/250 [==============================] - 0s 586us/step - loss: 0.3353 - accuracy: 0.8636\n",
      "Epoch 51/100\n",
      "250/250 [==============================] - 0s 603us/step - loss: 0.3348 - accuracy: 0.8629\n",
      "Epoch 52/100\n",
      "250/250 [==============================] - 0s 582us/step - loss: 0.3349 - accuracy: 0.8630\n",
      "Epoch 53/100\n",
      "250/250 [==============================] - 0s 586us/step - loss: 0.3345 - accuracy: 0.8609\n",
      "Epoch 54/100\n",
      "250/250 [==============================] - 0s 581us/step - loss: 0.3341 - accuracy: 0.8621\n",
      "Epoch 55/100\n",
      "250/250 [==============================] - 0s 584us/step - loss: 0.3341 - accuracy: 0.8636\n",
      "Epoch 56/100\n",
      "250/250 [==============================] - 0s 587us/step - loss: 0.3341 - accuracy: 0.8627\n",
      "Epoch 57/100\n",
      "250/250 [==============================] - 0s 600us/step - loss: 0.3337 - accuracy: 0.8633\n",
      "Epoch 58/100\n",
      "250/250 [==============================] - 0s 574us/step - loss: 0.3332 - accuracy: 0.8633\n",
      "Epoch 59/100\n",
      "250/250 [==============================] - 0s 587us/step - loss: 0.3334 - accuracy: 0.8635\n",
      "Epoch 60/100\n",
      "250/250 [==============================] - 0s 689us/step - loss: 0.3332 - accuracy: 0.8636\n",
      "Epoch 61/100\n",
      "250/250 [==============================] - 0s 590us/step - loss: 0.3329 - accuracy: 0.8636\n",
      "Epoch 62/100\n",
      "250/250 [==============================] - 0s 585us/step - loss: 0.3328 - accuracy: 0.8633\n",
      "Epoch 63/100\n",
      "250/250 [==============================] - 0s 580us/step - loss: 0.3326 - accuracy: 0.8635\n",
      "Epoch 64/100\n",
      "250/250 [==============================] - 0s 580us/step - loss: 0.3328 - accuracy: 0.8629\n",
      "Epoch 65/100\n",
      "250/250 [==============================] - 0s 587us/step - loss: 0.3328 - accuracy: 0.8620\n",
      "Epoch 66/100\n",
      "250/250 [==============================] - 0s 587us/step - loss: 0.3329 - accuracy: 0.8626\n",
      "Epoch 67/100\n",
      "250/250 [==============================] - 0s 584us/step - loss: 0.3321 - accuracy: 0.8640\n",
      "Epoch 68/100\n",
      "250/250 [==============================] - 0s 576us/step - loss: 0.3319 - accuracy: 0.8624\n",
      "Epoch 69/100\n",
      "250/250 [==============================] - 0s 582us/step - loss: 0.3324 - accuracy: 0.8631\n",
      "Epoch 70/100\n",
      "250/250 [==============================] - 0s 594us/step - loss: 0.3320 - accuracy: 0.8633\n",
      "Epoch 71/100\n",
      "250/250 [==============================] - 0s 584us/step - loss: 0.3321 - accuracy: 0.8612\n",
      "Epoch 72/100\n",
      "250/250 [==============================] - 0s 578us/step - loss: 0.3321 - accuracy: 0.8640\n",
      "Epoch 73/100\n",
      "250/250 [==============================] - 0s 667us/step - loss: 0.3319 - accuracy: 0.8636\n",
      "Epoch 74/100\n",
      "250/250 [==============================] - 0s 618us/step - loss: 0.3318 - accuracy: 0.8629\n",
      "Epoch 75/100\n",
      "250/250 [==============================] - 0s 583us/step - loss: 0.3320 - accuracy: 0.8619\n",
      "Epoch 76/100\n",
      "250/250 [==============================] - 0s 589us/step - loss: 0.3316 - accuracy: 0.8636\n",
      "Epoch 77/100\n",
      "250/250 [==============================] - 0s 593us/step - loss: 0.3320 - accuracy: 0.8626\n",
      "Epoch 78/100\n",
      "250/250 [==============================] - 0s 578us/step - loss: 0.3316 - accuracy: 0.8633\n",
      "Epoch 79/100\n",
      "250/250 [==============================] - 0s 570us/step - loss: 0.3312 - accuracy: 0.8639\n",
      "Epoch 80/100\n",
      "250/250 [==============================] - 0s 584us/step - loss: 0.3318 - accuracy: 0.8625\n",
      "Epoch 81/100\n",
      "250/250 [==============================] - 0s 577us/step - loss: 0.3315 - accuracy: 0.8626\n",
      "Epoch 82/100\n",
      "250/250 [==============================] - 0s 570us/step - loss: 0.3314 - accuracy: 0.8627\n",
      "Epoch 83/100\n",
      "250/250 [==============================] - 0s 595us/step - loss: 0.3309 - accuracy: 0.8639\n",
      "Epoch 84/100\n",
      "250/250 [==============================] - 0s 582us/step - loss: 0.3313 - accuracy: 0.8631\n",
      "Epoch 85/100\n",
      "250/250 [==============================] - 0s 573us/step - loss: 0.3311 - accuracy: 0.8630\n",
      "Epoch 86/100\n",
      "250/250 [==============================] - 0s 574us/step - loss: 0.3312 - accuracy: 0.8629\n",
      "Epoch 87/100\n",
      "250/250 [==============================] - 0s 707us/step - loss: 0.3314 - accuracy: 0.8630\n",
      "Epoch 88/100\n",
      "250/250 [==============================] - 0s 618us/step - loss: 0.3311 - accuracy: 0.8635\n",
      "Epoch 89/100\n",
      "250/250 [==============================] - 0s 600us/step - loss: 0.3308 - accuracy: 0.8631\n",
      "Epoch 90/100\n",
      "250/250 [==============================] - 0s 594us/step - loss: 0.3307 - accuracy: 0.8630\n",
      "Epoch 91/100\n",
      "250/250 [==============================] - 0s 587us/step - loss: 0.3310 - accuracy: 0.8648\n",
      "Epoch 92/100\n",
      "250/250 [==============================] - 0s 593us/step - loss: 0.3310 - accuracy: 0.8631\n",
      "Epoch 93/100\n",
      "250/250 [==============================] - 0s 587us/step - loss: 0.3312 - accuracy: 0.8619\n",
      "Epoch 94/100\n",
      "250/250 [==============================] - 0s 580us/step - loss: 0.3311 - accuracy: 0.8635\n",
      "Epoch 95/100\n",
      "250/250 [==============================] - 0s 626us/step - loss: 0.3311 - accuracy: 0.8641\n",
      "Epoch 96/100\n",
      "250/250 [==============================] - 0s 603us/step - loss: 0.3310 - accuracy: 0.8635\n",
      "Epoch 97/100\n",
      "250/250 [==============================] - 0s 570us/step - loss: 0.3310 - accuracy: 0.8636\n",
      "Epoch 98/100\n",
      "250/250 [==============================] - 0s 591us/step - loss: 0.3309 - accuracy: 0.8630\n",
      "Epoch 99/100\n",
      "250/250 [==============================] - 0s 571us/step - loss: 0.3309 - accuracy: 0.8652\n",
      "Epoch 100/100\n",
      "250/250 [==============================] - 0s 655us/step - loss: 0.3305 - accuracy: 0.8631\n"
     ]
    },
    {
     "data": {
      "text/plain": [
       "<keras.callbacks.History at 0x7f6369b690f0>"
      ]
     },
     "execution_count": 23,
     "metadata": {},
     "output_type": "execute_result"
    }
   ],
   "source": [
    "ann.fit(X_train, y_train, batch_size=32, epochs=100)"
   ]
  },
  {
   "cell_type": "code",
   "execution_count": 27,
   "metadata": {},
   "outputs": [
    {
     "name": "stdout",
     "output_type": "stream",
     "text": [
      "1/1 [==============================] - 0s 12ms/step\n"
     ]
    },
    {
     "data": {
      "text/plain": [
       "array([[False]])"
      ]
     },
     "execution_count": 27,
     "metadata": {},
     "output_type": "execute_result"
    }
   ],
   "source": [
    "ann.predict(sc.transform([[1, 0, 0, 600, 1, 40, 3, 60000, 2, 1, 1, 50000]])) > 0.5"
   ]
  },
  {
   "cell_type": "code",
   "execution_count": 28,
   "metadata": {},
   "outputs": [
    {
     "name": "stdout",
     "output_type": "stream",
     "text": [
      "63/63 [==============================] - 0s 482us/step\n",
      "[[0 0]\n",
      " [0 0]\n",
      " [0 0]\n",
      " ...\n",
      " [1 1]\n",
      " [0 1]\n",
      " [0 1]]\n"
     ]
    }
   ],
   "source": [
    "y_pred = ann.predict(X_test)\n",
    "y_pred = (y_pred > 0.5)\n",
    "print(np.concatenate((y_pred.reshape(len(y_pred),1), y_test.reshape(len(y_test),1)),1))"
   ]
  },
  {
   "cell_type": "code",
   "execution_count": 29,
   "metadata": {},
   "outputs": [
    {
     "name": "stdout",
     "output_type": "stream",
     "text": [
      "[[1520   87]\n",
      " [ 197  196]]\n"
     ]
    },
    {
     "data": {
      "text/plain": [
       "0.858"
      ]
     },
     "execution_count": 29,
     "metadata": {},
     "output_type": "execute_result"
    }
   ],
   "source": [
    "from sklearn.metrics import confusion_matrix, accuracy_score\n",
    "cm = confusion_matrix(y_test, y_pred)\n",
    "print(cm)\n",
    "accuracy_score(y_test, y_pred)"
   ]
  }
 ],
 "metadata": {
  "kernelspec": {
   "display_name": "Python 3",
   "language": "python",
   "name": "python3"
  },
  "language_info": {
   "codemirror_mode": {
    "name": "ipython",
    "version": 3
   },
   "file_extension": ".py",
   "mimetype": "text/x-python",
   "name": "python",
   "nbconvert_exporter": "python",
   "pygments_lexer": "ipython3",
   "version": "3.10.12"
  },
  "orig_nbformat": 4
 },
 "nbformat": 4,
 "nbformat_minor": 2
}
